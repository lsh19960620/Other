{
 "cells": [
  {
   "cell_type": "code",
   "execution_count": 25,
   "metadata": {},
   "outputs": [],
   "source": [
    "\"\"\"\n",
    "Convert the current number to another base\n",
    "\n",
    "num: the current number\n",
    "base: the chosen base\n",
    "\n",
    "\n",
    "\"\"\"\n",
    "\n",
    "def trans(num, div):\n",
    "    get = [0,1,2,3,4,5,6,7,8,9,10,'A','B','C','D','E']\n",
    "    \n",
    "    result = []\n",
    "    \n",
    "    while True:\n",
    "        if num == 0: break\n",
    "        \n",
    "        a, b = divmod(num, div)\n",
    "        num = a\n",
    "        result.append(get[b])\n",
    "        \n",
    "    return ''.join([str(i) for i in result[::-1]])"
   ]
  },
  {
   "cell_type": "code",
   "execution_count": 35,
   "metadata": {},
   "outputs": [
    {
     "name": "stdout",
     "output_type": "stream",
     "text": [
      "11110\n",
      "50\n",
      "36\n",
      "30\n",
      "1D\n"
     ]
    }
   ],
   "source": [
    "\"\"\"\n",
    "Test\n",
    "\n",
    "\"\"\"\n",
    "\n",
    "print(trans(30,2))\n",
    "print(trans(30,6))\n",
    "print(trans(30,8))\n",
    "print(trans(30,10))\n",
    "print(trans(30,16))"
   ]
  },
  {
   "cell_type": "code",
   "execution_count": null,
   "metadata": {},
   "outputs": [],
   "source": []
  }
 ],
 "metadata": {
  "kernelspec": {
   "display_name": "Python 3",
   "language": "python",
   "name": "python3"
  },
  "language_info": {
   "codemirror_mode": {
    "name": "ipython",
    "version": 3
   },
   "file_extension": ".py",
   "mimetype": "text/x-python",
   "name": "python",
   "nbconvert_exporter": "python",
   "pygments_lexer": "ipython3",
   "version": "3.8.2"
  }
 },
 "nbformat": 4,
 "nbformat_minor": 4
}
